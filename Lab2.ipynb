{
  "cells": [
    {
      "cell_type": "markdown",
      "metadata": {
        "id": "TUMlYqj3oKCC"
      },
      "source": [
        "## Лабораторна робота №2: \"Імплементація алгоритмів стиснення\"\n",
        "\n",
        "Склад команди та розподіл виконаних завдань:\n",
        "\n",
        "-\n",
        "-\n",
        "\n",
        "Для кожного з алгоритмів поданих нижче\n",
        "- опишіть як працює алгорит\n",
        "- напишіть класи з методами encode та decode\n",
        "- перевірте правильність кодування та декодування\n",
        "- дослідіть час виконання коду в залежності від розмірів вхідних даних\n",
        "- оцініть ступінь стиснення(у відсотка) в залежності від розмірів\n",
        "- напишіть висновок про ефективність різних алгоритмів та умови за яких той чи інший алгоритм дають кращий результат"
      ]
    },
    {
      "cell_type": "markdown",
      "metadata": {
        "id": "q7FpJG25oNzA"
      },
      "source": [
        "# Алгоритм Гаффмана\n",
        "\n",
        "В цьому алгоритмі доцільно імплементувати клас node та додаткові функції в Huffman для побудови дерева кодування"
      ]
    },
    {
      "cell_type": "code",
      "execution_count": 15,
      "metadata": {
        "id": "5fHzFB9gh7c2"
      },
      "outputs": [
        {
          "name": "stdout",
          "output_type": "stream",
          "text": [
            "Original text: abracadabra\n",
            "Encoded text: 10010001011101010010001\n",
            "Coding dictionary: {'a': '1', 'c': '011', 'd': '010', 'b': '001', 'r': '000'}\n",
            "Decoded text: abracadabra\n",
            "Bit length of original text: 88\n",
            "Bit length of encoded text: 23\n",
            "Ratio of encoded text to original text: 0.26136363636363635\n"
          ]
        }
      ],
      "source": [
        "class Node:\n",
        "    def __init__(self, weight: int, chars: str):\n",
        "        self.weight = weight\n",
        "        self.chars = chars\n",
        "\n",
        "    def __lt__(self, other):\n",
        "        return self.weight < other.weight\n",
        "    \n",
        "    def __add__(self, other):\n",
        "        return Node(self.weight + other.weight, self.chars + other.chars)\n",
        "    \n",
        "    def __iter__(self):\n",
        "        return iter(self.chars)\n",
        "\n",
        "class Huffman:\n",
        "    @staticmethod\n",
        "    def count_frequency(text: str) -> dict[str, int]:\n",
        "        frequency = {}\n",
        "\n",
        "        for char in text:\n",
        "            frequency.setdefault(char, 0)\n",
        "            frequency[char] += 1\n",
        "\n",
        "        return frequency\n",
        "\n",
        "\n",
        "    def encode(self, text: str) -> tuple[str, dict[str, str]]:\n",
        "        if not text:\n",
        "            return '', {}\n",
        "\n",
        "        frequency = self.count_frequency(text)\n",
        "\n",
        "        tree = [Node(weight, [[char,'']]) for char, weight in frequency.items()]\n",
        "\n",
        "        if len(tree) == 1:\n",
        "            return '0'*frequency[text[0]], {text[0]: '0'}\n",
        "\n",
        "        while len(tree) > 1:\n",
        "            first_min=tree.pop(tree.index(min(tree)))\n",
        "            second_min=tree.pop(tree.index(min(tree)))\n",
        "            for char in first_min:\n",
        "                char[1] = '1' + char[1]\n",
        "            for char in second_min:\n",
        "                char[1] = '0' + char[1]\n",
        "            tree.append(first_min+second_min)\n",
        "\n",
        "        huffman_code = {item[0]: item[1] for item in tree[0]}\n",
        "\n",
        "        encoded_text = ''.join(huffman_code[char] for char in text)\n",
        "\n",
        "        return encoded_text, huffman_code\n",
        "\n",
        "\n",
        "    def decode(self, code: str, coding_dict: dict[str, str]) -> str:\n",
        "        reverse=dict((v,k) for k,v in coding_dict.items())\n",
        "\n",
        "        decoded_text = \"\"\n",
        "        temp = \"\"\n",
        "\n",
        "        for char in code:\n",
        "            temp += char\n",
        "            if temp in reverse:\n",
        "                decoded_text += reverse[temp]\n",
        "                temp = \"\"\n",
        "\n",
        "        return decoded_text\n",
        "    \n",
        "\n",
        "if __name__ == \"__main__\":\n",
        "    huffman = Huffman()\n",
        "    text = \"abracadabra\"\n",
        "    encoded_text, coding_dict = huffman.encode(text)\n",
        "    print(f\"Original text: {text}\")\n",
        "    print(f\"Encoded text: {encoded_text}\")\n",
        "    print(f\"Coding dictionary: {coding_dict}\")\n",
        "    print(f\"Decoded text: {huffman.decode(encoded_text, coding_dict)}\")\n",
        "    print(f'Bit length of original text: {len(text) * 8}')\n",
        "    print(f'Bit length of encoded text: {len(encoded_text)}')\n",
        "    print(f'Ratio of encoded text to original text: {len(encoded_text) / (len(text) * 8)}')\n",
        "    assert huffman.decode(encoded_text, coding_dict) == text"
      ]
    },
    {
      "cell_type": "markdown",
      "metadata": {
        "id": "6_0LIrbWoQxo"
      },
      "source": [
        "# Алгоритм LZW"
      ]
    },
    {
      "cell_type": "code",
      "execution_count": 33,
      "metadata": {
        "id": "ogew0FkaoUNS"
      },
      "outputs": [
        {
          "name": "stdout",
          "output_type": "stream",
          "text": [
            "Original text: Lorem ipsum dolor sit amet, consectetur adipiscing elit. Nullam ac ante at ipsum fermentum fermentum. Nullam non nisl nec nunc fermentum fermentum. Nullam nec tellus fermentum,Lorem ipsum dolor sit amet, consectetur adipiscing elit. Nullam ac ante at ipsum fermentum fermentum. Nullam non nisl nec nunc fermentum fermentum. Nullam nec tellus fermentum,Lorem ipsum dolor sit amet, consectetur adipiscing elit. Nullam ac ante at ipsum fermentum fermentum. Nullam non nisl nec nunc fermentum fermentum. Nullam nec tellus fermentum,Lorem ipsum dolor sit amet, consectetur adipiscing elit. Nullam ac ante at ipsum fermentum fermentum. Nullam non nisl nec nunc fermentum fermentum. Nullam nec tellus fermentum,Lorem ipsum dolor sit amet, consectetur adipiscing elit. Nullam ac ante at ipsum fermentum fermentum. Nullam non nisl nec nunc fermentum fermentum. Nullam nec tellus fermentum,Lorem ipsum dolor sit amet, consectetur adipiscing elit. Nullam ac ante at ipsum fermentum fermentum. Nullam non nisl nec nunc fermentum fermentum. Nullam nec tellus fermentum,Lorem ipsum dolor sit amet, consectetur adipiscing elit. Nullam ac ante at ipsum fermentum fermentum. Nullam non nisl nec nunc fermentum fermentum. Nullam nec tellus fermentum,Lorem ipsum dolor sit amet, consectetur adipiscing elit. Nullam ac ante at ipsum fermentum fermentum. Nullam non nisl nec nunc fermentum fermentum. Nullam nec tellus fermentum,Lorem ipsum dolor sit amet, consectetur adipiscing elit. Nullam ac ante at ipsum fermentum fermentum. Nullam non nisl nec nunc fermentum fermentum. Nullam nec tellus fermentum,Lorem ipsum dolor sit amet, consectetur adipiscing elit. Nullam ac ante at ipsum fermentum fermentum. Nullam non nisl nec nunc fermentum fermentum. Nullam nec tellus fermentum,Lorem ipsum dolor sit amet, consectetur adipiscing elit. Nullam ac ante at ipsum fermentum fermentum. Nullam non nisl nec nunc fermentum fermentum. Nullam nec tellus fermentum,Lorem ipsum dolor sit amet, consectetur adipiscing elit. Nullam ac ante at ipsum fermentum fermentum. Nullam non nisl nec nunc fermentum fermentum. Nullam nec tellus fermentum,Lorem ipsum dolor sit amet, consectetur adipiscing elit. Nullam ac ante at ipsum fermentum fermentum. Nullam non nisl nec nunc fermentum fermentum. Nullam nec tellus fermentum,Lorem ipsum dolor sit amet, consectetur adipiscing elit. Nullam ac ante at ipsum fermentum fermentum. Nullam non nisl nec nunc fermentum fermentum. Nullam nec tellus fermentum,Lorem ipsum dolor sit amet, consectetur adipiscing elit. Nullam ac ante at ipsum fermentum fermentum. Nullam non nisl nec nunc fermentum fermentum. Nullam nec tellus fermentum,Lorem ipsum dolor sit amet, consectetur adipiscing elit. Nullam ac ante at ipsum fermentum fermentum. Nullam non nisl nec nunc fermentum fermentum. Nullam nec tellus fermentum,Lorem ipsum dolor sit amet, consectetur adipiscing elit. Nullam ac ante at ipsum fermentum fermentum. Nullam non nisl nec nunc fermentum fermentum. Nullam nec tellus fermentum,Lorem ipsum dolor sit amet, consectetur adipiscing elit. Nullam ac ante at ipsum fermentum fermentum. Nullam non nisl nec nunc fermentum fermentum. Nullam nec tellus fermentum,Lorem ipsum dolor sit amet, consectetur adipiscing elit. Nullam ac ante at ipsum fermentum fermentum. Nullam non nisl nec nunc fermentum fermentum. Nullam nec tellus fermentum,Lorem ipsum dolor sit amet, consectetur adipiscing elit. Nullam ac ante at ipsum fermentum fermentum. Nullam non nisl nec nunc fermentum fermentum. Nullam nec tellus fermentum,Lorem ipsum dolor sit amet, consectetur adipiscing elit. Nullam ac ante at ipsum fermentum fermentum. Nullam non nisl nec nunc fermentum fermentum. Nullam nec tellus fermentum,Lorem ipsum dolor sit amet, consectetur adipiscing elit. Nullam ac ante at ipsum fermentum fermentum. Nullam non nisl nec nunc fermentum fermentum. Nullam nec tellus fermentum,Lorem ipsum dolor sit amet, consectetur adipiscing elit. Nullam ac ante at ipsum fermentum fermentum. Nullam non nisl nec nunc fermentum fermentum. Nullam nec tellus fermentum,Lorem ipsum dolor sit amet, consectetur adipiscing elit. Nullam ac ante at ipsum fermentum fermentum. Nullam non nisl nec nunc fermentum fermentum. Nullam nec tellus fermentum,Lorem ipsum dolor sit amet, consectetur adipiscing elit. Nullam ac ante at ipsum fermentum fermentum. Nullam non nisl nec nunc fermentum fermentum. Nullam nec tellus fermentum,Lorem ipsum dolor sit amet, consectetur adipiscing elit. Nullam ac ante at ipsum fermentum fermentum. Nullam non nisl nec nunc fermentum fermentum. Nullam nec tellus fermentum,Lorem ipsum dolor sit amet, consectetur adipiscing elit. Nullam ac ante at ipsum fermentum fermentum. Nullam non nisl nec nunc fermentum fermentum. Nullam nec tellus fermentum,Lorem ipsum dolor sit amet, consectetur adipiscing elit. Nullam ac ante at ipsum fermentum fermentum. Nullam non nisl nec nunc fermentum fermentum. Nullam nec tellus fermentum,Lorem ipsum dolor sit amet, consectetur adipiscing elit. Nullam ac ante at ipsum fermentum fermentum. Nullam non nisl nec nunc fermentum fermentum. Nullam nec tellus fermentum,Lorem ipsum dolor sit amet, consectetur adipiscing elit. Nullam ac ante at ipsum fermentum fermentum. Nullam non nisl nec nunc fermentum fermentum. Nullam nec tellus fermentum,Lorem ipsum dolor sit amet, consectetur adipiscing elit. Nullam ac ante at ipsum fermentum fermentum. Nullam non nisl nec nunc fermentum fermentum. Nullam nec tellus fermentum,Lorem ipsum dolor sit amet, consectetur adipiscing elit. Nullam ac ante at ipsum fermentum fermentum. Nullam non nisl nec nunc fermentum fermentum. Nullam nec tellus fermentum,Lorem ipsum dolor sit amet, consectetur adipiscing elit. Nullam ac ante at ipsum fermentum fermentum. Nullam non nisl nec nunc fermentum fermentum. Nullam nec tellus fermentum,Lorem ipsum dolor sit amet, consectetur adipiscing elit. Nullam ac ante at ipsum fermentum fermentum. Nullam non nisl nec nunc fermentum fermentum. Nullam nec tellus fermentum,Lorem ipsum dolor sit amet, consectetur adipiscing elit. Nullam ac ante at ipsum fermentum fermentum. Nullam non nisl nec nunc fermentum fermentum. Nullam nec tellus fermentum,Lorem ipsum dolor sit amet, consectetur adipiscing elit. Nullam ac ante at ipsum fermentum fermentum. Nullam non nisl nec nunc fermentum fermentum. Nullam nec tellus fermentum,Lorem ipsum dolor sit amet, consectetur adipiscing elit. Nullam ac ante at ipsum fermentum fermentum. Nullam non nisl nec nunc fermentum fermentum. Nullam nec tellus fermentum,Lorem ipsum dolor sit amet, consectetur adipiscing elit. Nullam ac ante at ipsum fermentum fermentum. Nullam non nisl nec nunc fermentum fermentum. Nullam nec tellus fermentum,Lorem ipsum dolor sit amet, consectetur adipiscing elit. Nullam ac ante at ipsum fermentum fermentum. Nullam non nisl nec nunc fermentum fermentum. Nullam nec tellus fermentum,Lorem ipsum dolor sit amet, consectetur adipiscing elit. Nullam ac ante at ipsum fermentum fermentum. Nullam non nisl nec nunc fermentum fermentum. Nullam nec tellus fermentum,Lorem ipsum dolor sit amet, consectetur adipiscing elit. Nullam ac ante at ipsum fermentum fermentum. Nullam non nisl nec nunc fermentum fermentum. Nullam nec tellus fermentum,Lorem ipsum dolor sit amet, consectetur adipiscing elit. Nullam ac ante at ipsum fermentum fermentum. Nullam non nisl nec nunc fermentum fermentum. Nullam nec tellus fermentum,Lorem ipsum dolor sit amet, consectetur adipiscing elit. Nullam ac ante at ipsum fermentum fermentum. Nullam non nisl nec nunc fermentum fermentum. Nullam nec tellus fermentum,Lorem ipsum dolor sit amet, consectetur adipiscing elit. Nullam ac ante at ipsum fermentum fermentum. Nullam non nisl nec nunc fermentum fermentum. Nullam nec tellus fermentum,Lorem ipsum dolor sit amet, consectetur adipiscing elit. Nullam ac ante at ipsum fermentum fermentum. Nullam non nisl nec nunc fermentum fermentum. Nullam nec tellus fermentum,Lorem ipsum dolor sit amet, consectetur adipiscing elit. Nullam ac ante at ipsum fermentum fermentum. Nullam non nisl nec nunc fermentum fermentum. Nullam nec tellus fermentum,Lorem ipsum dolor sit amet, consectetur adipiscing elit. Nullam ac ante at ipsum fermentum fermentum. Nullam non nisl nec nunc fermentum fermentum. Nullam nec tellus fermentum,Lorem ipsum dolor sit amet, consectetur adipiscing elit. Nullam ac ante at ipsum fermentum fermentum. Nullam non nisl nec nunc fermentum fermentum. Nullam nec tellus fermentum,Lorem ipsum dolor sit amet, consectetur adipiscing elit. Nullam ac ante at ipsum fermentum fermentum. Nullam non nisl nec nunc fermentum fermentum. Nullam nec tellus fermentum,Lorem ipsum dolor sit amet, consectetur adipiscing elit. Nullam ac ante at ipsum fermentum fermentum. Nullam non nisl nec nunc fermentum fermentum. Nullam nec tellus fermentum,Lorem ipsum dolor sit amet, consectetur adipiscing elit. Nullam ac ante at ipsum fermentum fermentum. Nullam non nisl nec nunc fermentum fermentum. Nullam nec tellus fermentum,Lorem ipsum dolor sit amet, consectetur adipiscing elit. Nullam ac ante at ipsum fermentum fermentum. Nullam non nisl nec nunc fermentum fermentum. Nullam nec tellus fermentum,Lorem ipsum dolor sit amet, consectetur adipiscing elit. Nullam ac ante at ipsum fermentum fermentum. Nullam non nisl nec nunc fermentum fermentum. Nullam nec tellus fermentum,Lorem ipsum dolor sit amet, consectetur adipiscing elit. Nullam ac ante at ipsum fermentum fermentum. Nullam non nisl nec nunc fermentum fermentum. Nullam nec tellus fermentum,Lorem ipsum dolor sit amet, consectetur adipiscing elit. Nullam ac ante at ipsum fermentum fermentum. Nullam non nisl nec nunc fermentum fermentum. Nullam nec tellus fermentum,Lorem ipsum dolor sit amet, consectetur adipiscing elit. Nullam ac ante at ipsum fermentum fermentum. Nullam non nisl nec nunc fermentum fermentum. Nullam nec tellus fermentum,Lorem ipsum dolor sit amet, consectetur adipiscing elit. Nullam ac ante at ipsum fermentum fermentum. Nullam non nisl nec nunc fermentum fermentum. Nullam nec tellus fermentum,Lorem ipsum dolor sit amet, consectetur adipiscing elit. Nullam ac ante at ipsum fermentum fermentum. Nullam non nisl nec nunc fermentum fermentum. Nullam nec tellus fermentum,Lorem ipsum dolor sit amet, consectetur adipiscing elit. Nullam ac ante at ipsum fermentum fermentum. Nullam non nisl nec nunc fermentum fermentum. Nullam nec tellus fermentum,Lorem ipsum dolor sit amet, consectetur adipiscing elit. Nullam ac ante at ipsum fermentum fermentum. Nullam non nisl nec nunc fermentum fermentum. Nullam nec tellus fermentum,Lorem ipsum dolor sit amet, consectetur adipiscing elit. Nullam ac ante at ipsum fermentum fermentum. Nullam non nisl nec nunc fermentum fermentum. Nullam nec tellus fermentum,Lorem ipsum dolor sit amet, consectetur adipiscing elit. Nullam ac ante at ipsum fermentum fermentum. Nullam non nisl nec nunc fermentum fermentum. Nullam nec tellus fermentum,Lorem ipsum dolor sit amet, consectetur adipiscing elit. Nullam ac ante at ipsum fermentum fermentum. Nullam non nisl nec nunc fermentum fermentum. Nullam nec tellus fermentum,Lorem ipsum dolor sit amet, consectetur adipiscing elit. Nullam ac ante at ipsum fermentum fermentum. Nullam non nisl nec nunc fermentum fermentum. Nullam nec tellus fermentum,Lorem ipsum dolor sit amet, consectetur adipiscing elit. Nullam ac ante at ipsum fermentum fermentum. Nullam non nisl nec nunc fermentum fermentum. Nullam nec tellus fermentum,Lorem ipsum dolor sit amet, consectetur adipiscing elit. Nullam ac ante at ipsum fermentum fermentum. Nullam non nisl nec nunc fermentum fermentum. Nullam nec tellus fermentum,Lorem ipsum dolor sit amet, consectetur adipiscing elit. Nullam ac ante at ipsum fermentum fermentum. Nullam non nisl nec nunc fermentum fermentum. Nullam nec tellus fermentum,Lorem ipsum dolor sit amet, consectetur adipiscing elit. Nullam ac ante at ipsum fermentum fermentum. Nullam non nisl nec nunc fermentum fermentum. Nullam nec tellus fermentum,Lorem ipsum dolor sit amet, consectetur adipiscing elit. Nullam ac ante at ipsum fermentum fermentum. Nullam non nisl nec nunc fermentum fermentum. Nullam nec tellus fermentum,Lorem ipsum dolor sit amet, consectetur adipiscing elit. Nullam ac ante at ipsum fermentum fermentum. Nullam non nisl nec nunc fermentum fermentum. Nullam nec tellus fermentum,Lorem ipsum dolor sit amet, consectetur adipiscing elit. Nullam ac ante at ipsum fermentum fermentum. Nullam non nisl nec nunc fermentum fermentum. Nullam nec tellus fermentum,\n",
            "Encoded text: 0 1 2 3 4 5 6 7 8 9 25 10 1 11 22 5 8 6 12 5 13 4 3 12 14 5 15 1 16 8 3 15 12 43 9 2 40 10 27 6 8 15 6 16 17 5 3 11 38 18 5 19 9 11 11 41 40 15 40 16 53 40 39 27 29 25 20 3 2 42 80 30 5 87 89 3 91 4 70 72 74 76 16 48 5 16 60 11 105 51 105 9 16 78 94 90 12 92 115 96 117 98 71 73 75 25 16 110 53 74 9 8 93 88 116 30 14 21 23 25 84 92 32 34 56 37 39 41 43 45 47 49 51 53 117 56 13 58 7 60 62 64 66 68 12 99 124 76 13 78 13 80 3 82 26 28 118 134 120 177 95 97 166 101 126 104 106 8 108 127 78 16 112 114 178 97 133 181 121 183 125 109 78 129 11 131 197 135 4 137 22 24 175 85 5 143 35 146 40 42 44 46 48 50 52 54 156 158 160 63 65 67 69 123 184 77 79 81 13 83 176 86 195 121 207 179 122 100 201 103 16 105 107 202 111 113 245 196 119 182 234 249 128 67 205 132 259 121 210 139 213 142 33 217 38 219 149 222 152 225 155 57 59 61 230 163 233 248 168 170 172 174 141 242 198 180 208 200 102 186 253 190 255 194 295 294 297 261 102 263 130 266 243 136 138 212 293 215 273 145 275 148 221 151 224 154 55 282 159 284 162 232 165 308 25 169 237 173 239 271 306 246 257 199 334 105 300 188 254 192 256 267 296 246 298 126 310 265 343 314 211 140 241 318 144 36 321 220 150 223 153 226 328 229 331 164 355 236 171 238 240 214 352 341 260 288 185 251 187 189 110 350 304 208 359 247 167 356 203 264 206 383 269 316 363 216 320 147 368 278 325 372 157 283 161 231 376 345 336 379 338 381 353 258 313 396 235 250 252 348 302 392 395 395 377 302 204 401 425 403 362 214 406 366 408 277 324 371 281 413 329 415 286 333 386 378 291 339 317 383 434 345 428 389 349 193 433 383 435 357 438 305 440 340 364 274 445 323 370 280 327 450 374 416 287 397 456 380 474 460 468 462 347 390 191 466 490 425 469 399 311 395 473 317 443 218 322 369 279 326 227 414 285 332 377 419 457 422 384 244 491 455 463 301 391 496 425 461 522 470 312 472 315 441 272 365 506 409 447 480 511 451 513 417 455 516 488 459 527 521 486 523 430 525 351 549 498 462 530 502 533 474 505 367 446 479 510 373 330 484 454 486 546 421 489 556 305 435 493 465 555 305 528 551 559 402 561 504 319 444 276 478 509 412 228 569 453 515 290 547 363 497 577 492 388 524 495 581 394 550 427 585 439 587 405 589 537 565 593 449 595 452 514 418 599 574 548 582 610 249 579 431 526 628 557 529 500 358 586 361 562 616 564 592 411 620 512 375 485 235 573 292 601 576 307 522 631 554 393 342 629 309 637 471 208 503 615 536 643 508 645 481 621 543 649 201 651 458 653 634 603 656 605 553 607 659 424 681 584 663 531 665 614 442 642 477 670 448 672 647 570 598 337 652 382 654 354 604 429 494 303 467 635 689 5 437 691 246 666 694 668 696 410 698 541 483 597 624 703 678 705 680 655 551 657 685 712 688 611 690 560 640 588 721 591 697 540 568 622 544 572 625 704 423 520 713 427 735 711 602 733 739 715 400 717 97 719 535 476 745 723 747 482 596 623 545 752 730 754 779 426 630 683 710 432 760 707 636 763 501 639 270 743 769 507 771 567 773 749 675 289 729 518 737 761 782 709 580 686 755 738 262 740 791 404 720 794 538 566 594 700 727 776 802 575 732 787 734 783 808 804 827 762 716 741 792 667 817 618 671 725 774 750 650 777 803 786 385 828 807 632 608 660 756 812 789 638 613 742 837 407 770 539 797 673 648 571 844 824 627 609 854 299 829 851 809 780 499 856 664 718 693 768 861 795 863 820 542 866 702 420 753 519 877 708 464 875 831 848 833 764 835 815 883 590 885 819 646 888 701 728 891 778 893 914 578 874 658 898 344 788 834 814 534 31 695 862 907 699 909 822 751 869 679 871 811 873 850 918 847 920 714 922 858 836 816 884 818 619 929 726 775 932 912 846 706 899 806 896 939 956 941 900 790 944 903 925 744 906 949 841 799 867 676 845 825 935 805 937 959 736 940 30 878 943 532 859 946 905 948 840 748 674 973 801 954 976 853 936 387 938 981 961 983 558 813 965 924 475 947 839 724 992 889 911 517 997 687 978 1000 980 759 1003 781 662 879 765 268 882 967 838 644 1012 798 993 890 1016 870 998 1019 346 917 1002 826 957 1025 985 692 987 904 617 1032 772 865 910 823 996 1038 1018 832 958 606 1022 1044 962 855 1047 881 1049 1030 1010 1052 864 821 952 868 1057 934 1039 1060 979 1062 785 1023 984 901 923 641 968 990 1033 1054 931 1076 1037 1078 1059 1045 1020 1082 633 977 1080 398 1026 902 1008 563 722 886 908 951 843 974 933 731 1102 1098 1041 1001 1063 1117 1065 1046 1086 1007 1088 1031 746 1073 930 1075 1114 1077 1116 1079 1118 552 784 1101 1136 1123 1104 1067 766 1029 1009 989 1011 1053 1074 1113 995 1095 1135 1097 1142 1119 1021 1083 1064 1004 921 1125 986 945 1050 669 796 887 1112 800 335 975 1058 810 1040 1138 830 982 1024 1143 1164 1048 1166 1070 1148 1072 1170 842 1172 487 626 1096 1176 1103 1158 1100 852 1156 1162 942 1183 1068 1185 1147 1051 1129 1189 972 1036 600 1155 1195 1137 758 1160 1122 1201 963 857 1165 966 1206 1168 1110 950 1190 994 1173 1115 780 583 757 1042 1121 1141 1219 1066 1203 1145 1069 1224 1109 928 971 1035 1015 1212 1232 661 1099 684 1236 1200 1181 254 1144 1028 1242 1108 927 970 1013 1055 953 1154 1250 872 1252 1139 1199 1214 1157 436 1240 1259 1205 1261 969 991 1034 1014 1056 1267 914 1233 1061 1253 1217 1237 1256 1275 964 1222 1107 926 1280 1091 1151 1191 677 955 1161 1292 1216 1140 1255 1085 1294 1184 1223 1279 1090 1150 1131 1152 1230 1134 1268 999 1197 1289 1307 1273 1238 1124 1310 1204 1312 1297 1314 1130 1171 1229 1192 892 919 1326 1270 1179 1084 1005 1105 1087 793 1071 1208 1111 1228 1211 1193 1213 894 682 1120 1290 1308 1343 1258 360 1278 1331 1149 1333 1350 1248 1352 1320 1177 1306 1272 1354 1202 1328 1241 1362 1089 1364 1209 1247 1284 1249 1286 1251 1322 1271 876 915 1359 1276 1361 1330 1378 1188 1349 1210 1367 1337 1180 916 1356 1324 1373 1220 880 1376 1393 1128 1169 1396 1381 1266 1383 1338 1305 1235 1357 1325 1292 612 1295 1127 1347 1410 1227 1397 1382 1368 1384 1269 1386 1341 1304 1309 1221 1311 1296 1394 1348 1426 1412 1094 1414 1400 895 1198 1388 1287 1327 1436 1329 1438 1409 1226 1246 1283 1413 1429 1415 1401 1159 1403 1389 1163 1375 1277 1408 1424 1455 1264 1093 1133 1285 1460 1446 1323 1372 1464 1374 1451 1407 1453 1469 1245 1471 1132 1153 1444 1342 1355 1462 1478 1449 1182 1466 1392 1483 1187 1440 1456 1265 1443 1459 1445 1491 1447 1475 1465 1481 1467 1498 1207 1425 1501 1472 1488 1504 1490 849 1492 1448 1385 1293 1510 1497 1423 1499 1514 1486 1317 1336 913 1508 1520 1507 1505 1480 1406 1511 1527 1513 1470 1282 1502 1473 1489 1434 1476 1387 1534 1405 1027 1526 1346 1528 1543 1092 1487 1318 1474 1537 1234 1402 1493 1523 1421 1437 1541 1225 1485 1544 1516 1560 1547 1218 1416 1564 1522 1431 1524 1539 1554 860 1556 1571 1558 1531 1302 1017 1419 1461 1536 1519 1552 1106 1569 1244 1263 1572 1559 1532 1303 1576 1592 1477 1579 1321 1581 1553 209 1146 1313 1379 1411 1457 1503 1399 1594 1288 1550 1562 1239 1496 1611 1260 1363 1395 1441 1616 1546 1518 1548 1506 1606 1551 1623 1525 1625 1377 1454 1586 1300 1335 1589 1175 1404 1620 1433 1604 1390 1624 767 1186 1542 1642 1316 1301 1174 1194 1647 1081 1635 1622 1450 1582 1639 1468 1585 1599 1587 1658 1231 1430 1608 1371 1607 1177 1567 718\n",
            "Coding dictionary: ['L', 'o', 'r', 'e', 'm', ' ', 'i', 'p', 's', 'u', 'd', 'l', 't', 'a', ',', 'c', 'n', 'g', '.', 'N', 'f']\n",
            "Decoded text: Lorem ipsum dolor sit amet, consectetur adipiscing elit. Nullam ac ante at ipsum fermentum fermentum. Nullam non nisl nec nunc fermentum fermentum. Nullam nec tellus fermentum,Lorem ipsum dolor sit amet, consectetur adipiscing elit. Nullam ac ante at ipsum fermentum fermentum. Nullam non nisl nec nunc fermentum fermentum. Nullam nec tellus fermentum,Lorem ipsum dolor sit amet, consectetur adipiscing elit. Nullam ac ante at ipsum fermentum fermentum. Nullam non nisl nec nunc fermentum fermentum. Nullam nec tellus fermentum,Lorem ipsum dolor sit amet, consectetur adipiscing elit. Nullam ac ante at ipsum fermentum fermentum. Nullam non nisl nec nunc fermentum fermentum. Nullam nec tellus fermentum,Lorem ipsum dolor sit amet, consectetur adipiscing elit. Nullam ac ante at ipsum fermentum fermentum. Nullam non nisl nec nunc fermentum fermentum. Nullam nec tellus fermentum,Lorem ipsum dolor sit amet, consectetur adipiscing elit. Nullam ac ante at ipsum fermentum fermentum. Nullam non nisl nec nunc fermentum fermentum. Nullam nec tellus fermentum,Lorem ipsum dolor sit amet, consectetur adipiscing elit. Nullam ac ante at ipsum fermentum fermentum. Nullam non nisl nec nunc fermentum fermentum. Nullam nec tellus fermentum,Lorem ipsum dolor sit amet, consectetur adipiscing elit. Nullam ac ante at ipsum fermentum fermentum. Nullam non nisl nec nunc fermentum fermentum. Nullam nec tellus fermentum,Lorem ipsum dolor sit amet, consectetur adipiscing elit. Nullam ac ante at ipsum fermentum fermentum. Nullam non nisl nec nunc fermentum fermentum. Nullam nec tellus fermentum,Lorem ipsum dolor sit amet, consectetur adipiscing elit. Nullam ac ante at ipsum fermentum fermentum. Nullam non nisl nec nunc fermentum fermentum. Nullam nec tellus fermentum,Lorem ipsum dolor sit amet, consectetur adipiscing elit. Nullam ac ante at ipsum fermentum fermentum. Nullam non nisl nec nunc fermentum fermentum. Nullam nec tellus fermentum,Lorem ipsum dolor sit amet, consectetur adipiscing elit. Nullam ac ante at ipsum fermentum fermentum. Nullam non nisl nec nunc fermentum fermentum. Nullam nec tellus fermentum,Lorem ipsum dolor sit amet, consectetur adipiscing elit. Nullam ac ante at ipsum fermentum fermentum. Nullam non nisl nec nunc fermentum fermentum. Nullam nec tellus fermentum,Lorem ipsum dolor sit amet, consectetur adipiscing elit. Nullam ac ante at ipsum fermentum fermentum. Nullam non nisl nec nunc fermentum fermentum. Nullam nec tellus fermentum,Lorem ipsum dolor sit amet, consectetur adipiscing elit. Nullam ac ante at ipsum fermentum fermentum. Nullam non nisl nec nunc fermentum fermentum. Nullam nec tellus fermentum,Lorem ipsum dolor sit amet, consectetur adipiscing elit. Nullam ac ante at ipsum fermentum fermentum. Nullam non nisl nec nunc fermentum fermentum. Nullam nec tellus fermentum,Lorem ipsum dolor sit amet, consectetur adipiscing elit. Nullam ac ante at ipsum fermentum fermentum. Nullam non nisl nec nunc fermentum fermentum. Nullam nec tellus fermentum,Lorem ipsum dolor sit amet, consectetur adipiscing elit. Nullam ac ante at ipsum fermentum fermentum. Nullam non nisl nec nunc fermentum fermentum. Nullam nec tellus fermentum,Lorem ipsum dolor sit amet, consectetur adipiscing elit. Nullam ac ante at ipsum fermentum fermentum. Nullam non nisl nec nunc fermentum fermentum. Nullam nec tellus fermentum,Lorem ipsum dolor sit amet, consectetur adipiscing elit. Nullam ac ante at ipsum fermentum fermentum. Nullam non nisl nec nunc fermentum fermentum. Nullam nec tellus fermentum,Lorem ipsum dolor sit amet, consectetur adipiscing elit. Nullam ac ante at ipsum fermentum fermentum. Nullam non nisl nec nunc fermentum fermentum. Nullam nec tellus fermentum,Lorem ipsum dolor sit amet, consectetur adipiscing elit. Nullam ac ante at ipsum fermentum fermentum. Nullam non nisl nec nunc fermentum fermentum. Nullam nec tellus fermentum,Lorem ipsum dolor sit amet, consectetur adipiscing elit. Nullam ac ante at ipsum fermentum fermentum. Nullam non nisl nec nunc fermentum fermentum. Nullam nec tellus fermentum,Lorem ipsum dolor sit amet, consectetur adipiscing elit. Nullam ac ante at ipsum fermentum fermentum. Nullam non nisl nec nunc fermentum fermentum. Nullam nec tellus fermentum,Lorem ipsum dolor sit amet, consectetur adipiscing elit. Nullam ac ante at ipsum fermentum fermentum. Nullam non nisl nec nunc fermentum fermentum. Nullam nec tellus fermentum,Lorem ipsum dolor sit amet, consectetur adipiscing elit. Nullam ac ante at ipsum fermentum fermentum. Nullam non nisl nec nunc fermentum fermentum. Nullam nec tellus fermentum,Lorem ipsum dolor sit amet, consectetur adipiscing elit. Nullam ac ante at ipsum fermentum fermentum. Nullam non nisl nec nunc fermentum fermentum. Nullam nec tellus fermentum,Lorem ipsum dolor sit amet, consectetur adipiscing elit. Nullam ac ante at ipsum fermentum fermentum. Nullam non nisl nec nunc fermentum fermentum. Nullam nec tellus fermentum,Lorem ipsum dolor sit amet, consectetur adipiscing elit. Nullam ac ante at ipsum fermentum fermentum. Nullam non nisl nec nunc fermentum fermentum. Nullam nec tellus fermentum,Lorem ipsum dolor sit amet, consectetur adipiscing elit. Nullam ac ante at ipsum fermentum fermentum. Nullam non nisl nec nunc fermentum fermentum. Nullam nec tellus fermentum,Lorem ipsum dolor sit amet, consectetur adipiscing elit. Nullam ac ante at ipsum fermentum fermentum. Nullam non nisl nec nunc fermentum fermentum. Nullam nec tellus fermentum,Lorem ipsum dolor sit amet, consectetur adipiscing elit. Nullam ac ante at ipsum fermentum fermentum. Nullam non nisl nec nunc fermentum fermentum. Nullam nec tellus fermentum,Lorem ipsum dolor sit amet, consectetur adipiscing elit. Nullam ac ante at ipsum fermentum fermentum. Nullam non nisl nec nunc fermentum fermentum. Nullam nec tellus fermentum,Lorem ipsum dolor sit amet, consectetur adipiscing elit. Nullam ac ante at ipsum fermentum fermentum. Nullam non nisl nec nunc fermentum fermentum. Nullam nec tellus fermentum,Lorem ipsum dolor sit amet, consectetur adipiscing elit. Nullam ac ante at ipsum fermentum fermentum. Nullam non nisl nec nunc fermentum fermentum. Nullam nec tellus fermentum,Lorem ipsum dolor sit amet, consectetur adipiscing elit. Nullam ac ante at ipsum fermentum fermentum. Nullam non nisl nec nunc fermentum fermentum. Nullam nec tellus fermentum,Lorem ipsum dolor sit amet, consectetur adipiscing elit. Nullam ac ante at ipsum fermentum fermentum. Nullam non nisl nec nunc fermentum fermentum. Nullam nec tellus fermentum,Lorem ipsum dolor sit amet, consectetur adipiscing elit. Nullam ac ante at ipsum fermentum fermentum. Nullam non nisl nec nunc fermentum fermentum. Nullam nec tellus fermentum,Lorem ipsum dolor sit amet, consectetur adipiscing elit. Nullam ac ante at ipsum fermentum fermentum. Nullam non nisl nec nunc fermentum fermentum. Nullam nec tellus fermentum,Lorem ipsum dolor sit amet, consectetur adipiscing elit. Nullam ac ante at ipsum fermentum fermentum. Nullam non nisl nec nunc fermentum fermentum. Nullam nec tellus fermentum,Lorem ipsum dolor sit amet, consectetur adipiscing elit. Nullam ac ante at ipsum fermentum fermentum. Nullam non nisl nec nunc fermentum fermentum. Nullam nec tellus fermentum,Lorem ipsum dolor sit amet, consectetur adipiscing elit. Nullam ac ante at ipsum fermentum fermentum. Nullam non nisl nec nunc fermentum fermentum. Nullam nec tellus fermentum,Lorem ipsum dolor sit amet, consectetur adipiscing elit. Nullam ac ante at ipsum fermentum fermentum. Nullam non nisl nec nunc fermentum fermentum. Nullam nec tellus fermentum,Lorem ipsum dolor sit amet, consectetur adipiscing elit. Nullam ac ante at ipsum fermentum fermentum. Nullam non nisl nec nunc fermentum fermentum. Nullam nec tellus fermentum,Lorem ipsum dolor sit amet, consectetur adipiscing elit. Nullam ac ante at ipsum fermentum fermentum. Nullam non nisl nec nunc fermentum fermentum. Nullam nec tellus fermentum,Lorem ipsum dolor sit amet, consectetur adipiscing elit. Nullam ac ante at ipsum fermentum fermentum. Nullam non nisl nec nunc fermentum fermentum. Nullam nec tellus fermentum,Lorem ipsum dolor sit amet, consectetur adipiscing elit. Nullam ac ante at ipsum fermentum fermentum. Nullam non nisl nec nunc fermentum fermentum. Nullam nec tellus fermentum,Lorem ipsum dolor sit amet, consectetur adipiscing elit. Nullam ac ante at ipsum fermentum fermentum. Nullam non nisl nec nunc fermentum fermentum. Nullam nec tellus fermentum,Lorem ipsum dolor sit amet, consectetur adipiscing elit. Nullam ac ante at ipsum fermentum fermentum. Nullam non nisl nec nunc fermentum fermentum. Nullam nec tellus fermentum,Lorem ipsum dolor sit amet, consectetur adipiscing elit. Nullam ac ante at ipsum fermentum fermentum. Nullam non nisl nec nunc fermentum fermentum. Nullam nec tellus fermentum,Lorem ipsum dolor sit amet, consectetur adipiscing elit. Nullam ac ante at ipsum fermentum fermentum. Nullam non nisl nec nunc fermentum fermentum. Nullam nec tellus fermentum,Lorem ipsum dolor sit amet, consectetur adipiscing elit. Nullam ac ante at ipsum fermentum fermentum. Nullam non nisl nec nunc fermentum fermentum. Nullam nec tellus fermentum,Lorem ipsum dolor sit amet, consectetur adipiscing elit. Nullam ac ante at ipsum fermentum fermentum. Nullam non nisl nec nunc fermentum fermentum. Nullam nec tellus fermentum,Lorem ipsum dolor sit amet, consectetur adipiscing elit. Nullam ac ante at ipsum fermentum fermentum. Nullam non nisl nec nunc fermentum fermentum. Nullam nec tellus fermentum,Lorem ipsum dolor sit amet, consectetur adipiscing elit. Nullam ac ante at ipsum fermentum fermentum. Nullam non nisl nec nunc fermentum fermentum. Nullam nec tellus fermentum,Lorem ipsum dolor sit amet, consectetur adipiscing elit. Nullam ac ante at ipsum fermentum fermentum. Nullam non nisl nec nunc fermentum fermentum. Nullam nec tellus fermentum,Lorem ipsum dolor sit amet, consectetur adipiscing elit. Nullam ac ante at ipsum fermentum fermentum. Nullam non nisl nec nunc fermentum fermentum. Nullam nec tellus fermentum,Lorem ipsum dolor sit amet, consectetur adipiscing elit. Nullam ac ante at ipsum fermentum fermentum. Nullam non nisl nec nunc fermentum fermentum. Nullam nec tellus fermentum,Lorem ipsum dolor sit amet, consectetur adipiscing elit. Nullam ac ante at ipsum fermentum fermentum. Nullam non nisl nec nunc fermentum fermentum. Nullam nec tellus fermentum,Lorem ipsum dolor sit amet, consectetur adipiscing elit. Nullam ac ante at ipsum fermentum fermentum. Nullam non nisl nec nunc fermentum fermentum. Nullam nec tellus fermentum,Lorem ipsum dolor sit amet, consectetur adipiscing elit. Nullam ac ante at ipsum fermentum fermentum. Nullam non nisl nec nunc fermentum fermentum. Nullam nec tellus fermentum,Lorem ipsum dolor sit amet, consectetur adipiscing elit. Nullam ac ante at ipsum fermentum fermentum. Nullam non nisl nec nunc fermentum fermentum. Nullam nec tellus fermentum,Lorem ipsum dolor sit amet, consectetur adipiscing elit. Nullam ac ante at ipsum fermentum fermentum. Nullam non nisl nec nunc fermentum fermentum. Nullam nec tellus fermentum,Lorem ipsum dolor sit amet, consectetur adipiscing elit. Nullam ac ante at ipsum fermentum fermentum. Nullam non nisl nec nunc fermentum fermentum. Nullam nec tellus fermentum,Lorem ipsum dolor sit amet, consectetur adipiscing elit. Nullam ac ante at ipsum fermentum fermentum. Nullam non nisl nec nunc fermentum fermentum. Nullam nec tellus fermentum,Lorem ipsum dolor sit amet, consectetur adipiscing elit. Nullam ac ante at ipsum fermentum fermentum. Nullam non nisl nec nunc fermentum fermentum. Nullam nec tellus fermentum,Lorem ipsum dolor sit amet, consectetur adipiscing elit. Nullam ac ante at ipsum fermentum fermentum. Nullam non nisl nec nunc fermentum fermentum. Nullam nec tellus fermentum,Lorem ipsum dolor sit amet, consectetur adipiscing elit. Nullam ac ante at ipsum fermentum fermentum. Nullam non nisl nec nunc fermentum fermentum. Nullam nec tellus fermentum,Lorem ipsum dolor sit amet, consectetur adipiscing elit. Nullam ac ante at ipsum fermentum fermentum. Nullam non nisl nec nunc fermentum fermentum. Nullam nec tellus fermentum,Lorem ipsum dolor sit amet, consectetur adipiscing elit. Nullam ac ante at ipsum fermentum fermentum. Nullam non nisl nec nunc fermentum fermentum. Nullam nec tellus fermentum,Lorem ipsum dolor sit amet, consectetur adipiscing elit. Nullam ac ante at ipsum fermentum fermentum. Nullam non nisl nec nunc fermentum fermentum. Nullam nec tellus fermentum,\n",
            "Bit length of original text: 99968\n",
            "Bit length of encoded text: 55416\n",
            "Ratio of encoded text to original text: 0.5543373879641486\n"
          ]
        }
      ],
      "source": [
        "class LZW:\n",
        "    def encode(self, text: str) -> tuple[str, list]:\n",
        "        if not text:\n",
        "            return '', []\n",
        "\n",
        "        dictionary={}\n",
        "        i=0\n",
        "\n",
        "        for char in text:\n",
        "            if len(dictionary)==len(set(text)):\n",
        "                break\n",
        "            if char not in dictionary:\n",
        "                dictionary[char]=i\n",
        "                i+=1\n",
        "        \n",
        "        result_dictionary = list(dictionary.keys())\n",
        " \n",
        "        encoded_text = ''\n",
        "        temp = \"\"\n",
        "\n",
        "        for char in text:\n",
        "            temp += char\n",
        "            if temp not in dictionary:\n",
        "                encoded_text+=(str(dictionary[temp[:-1]]))+' '\n",
        "                dictionary[temp] = len(dictionary)\n",
        "                temp = char\n",
        "\n",
        "        encoded_text+=str(dictionary[temp])\n",
        "\n",
        "        return encoded_text, result_dictionary\n",
        "\n",
        "    def decode(self, code: str, coding_dict: list) -> str:\n",
        "        coding_dict = {i : char for i, char in enumerate(coding_dict)}\n",
        "        coding_dict_start = coding_dict.copy()\n",
        "\n",
        "        decoded_text = \"\"\n",
        "        temp=''\n",
        "        code = list(map(int,code.split()))\n",
        "\n",
        "        for num in code:\n",
        "            if num in coding_dict:\n",
        "                decoded_text += coding_dict[num]\n",
        "                temp+=coding_dict[num]\n",
        "                if num in coding_dict_start:\n",
        "                    if temp not in coding_dict.values():\n",
        "                        coding_dict[len(coding_dict)] = temp\n",
        "                        temp = temp[-1]\n",
        "                else:\n",
        "                    temp_2=''\n",
        "                    for char in temp:\n",
        "                        temp_2+=char\n",
        "                        if temp_2 not in coding_dict.values():\n",
        "                            coding_dict[len(coding_dict)] = temp_2\n",
        "                            temp_2 = temp_2[:-1]\n",
        "                            break\n",
        "                    temp = temp[len(temp_2):]\n",
        "            else:\n",
        "                temp=temp+temp[0]\n",
        "                coding_dict[len(coding_dict)] = temp\n",
        "                decoded_text += coding_dict[num]\n",
        "        return decoded_text\n",
        "\n",
        "\n",
        "if __name__ == \"__main__\":\n",
        "    lzw = LZW()\n",
        "    text = 'Lorem ipsum dolor sit amet, consectetur adipiscing elit. Nullam ac ante at ipsum fermentum fermentum. Nullam non nisl nec nunc fermentum fermentum. Nullam nec tellus fermentum,Lorem ipsum dolor sit amet, consectetur adipiscing elit. Nullam ac ante at ipsum fermentum fermentum. Nullam non nisl nec nunc fermentum fermentum. Nullam nec tellus fermentum,Lorem ipsum dolor sit amet, consectetur adipiscing elit. Nullam ac ante at ipsum fermentum fermentum. Nullam non nisl nec nunc fermentum fermentum. Nullam nec tellus fermentum,Lorem ipsum dolor sit amet, consectetur adipiscing elit. Nullam ac ante at ipsum fermentum fermentum. Nullam non nisl nec nunc fermentum fermentum. Nullam nec tellus fermentum,Lorem ipsum dolor sit amet, consectetur adipiscing elit. Nullam ac ante at ipsum fermentum fermentum. Nullam non nisl nec nunc fermentum fermentum. Nullam nec tellus fermentum,Lorem ipsum dolor sit amet, consectetur adipiscing elit. Nullam ac ante at ipsum fermentum fermentum. Nullam non nisl nec nunc fermentum fermentum. Nullam nec tellus fermentum,Lorem ipsum dolor sit amet, consectetur adipiscing elit. Nullam ac ante at ipsum fermentum fermentum. Nullam non nisl nec nunc fermentum fermentum. Nullam nec tellus fermentum,Lorem ipsum dolor sit amet, consectetur adipiscing elit. Nullam ac ante at ipsum fermentum fermentum. Nullam non nisl nec nunc fermentum fermentum. Nullam nec tellus fermentum,Lorem ipsum dolor sit amet, consectetur adipiscing elit. Nullam ac ante at ipsum fermentum fermentum. Nullam non nisl nec nunc fermentum fermentum. Nullam nec tellus fermentum,Lorem ipsum dolor sit amet, consectetur adipiscing elit. Nullam ac ante at ipsum fermentum fermentum. Nullam non nisl nec nunc fermentum fermentum. Nullam nec tellus fermentum,Lorem ipsum dolor sit amet, consectetur adipiscing elit. Nullam ac ante at ipsum fermentum fermentum. Nullam non nisl nec nunc fermentum fermentum. Nullam nec tellus fermentum,Lorem ipsum dolor sit amet, consectetur adipiscing elit. Nullam ac ante at ipsum fermentum fermentum. Nullam non nisl nec nunc fermentum fermentum. Nullam nec tellus fermentum,Lorem ipsum dolor sit amet, consectetur adipiscing elit. Nullam ac ante at ipsum fermentum fermentum. Nullam non nisl nec nunc fermentum fermentum. Nullam nec tellus fermentum,Lorem ipsum dolor sit amet, consectetur adipiscing elit. Nullam ac ante at ipsum fermentum fermentum. Nullam non nisl nec nunc fermentum fermentum. Nullam nec tellus fermentum,Lorem ipsum dolor sit amet, consectetur adipiscing elit. Nullam ac ante at ipsum fermentum fermentum. Nullam non nisl nec nunc fermentum fermentum. Nullam nec tellus fermentum,Lorem ipsum dolor sit amet, consectetur adipiscing elit. Nullam ac ante at ipsum fermentum fermentum. Nullam non nisl nec nunc fermentum fermentum. Nullam nec tellus fermentum,Lorem ipsum dolor sit amet, consectetur adipiscing elit. Nullam ac ante at ipsum fermentum fermentum. Nullam non nisl nec nunc fermentum fermentum. Nullam nec tellus fermentum,Lorem ipsum dolor sit amet, consectetur adipiscing elit. Nullam ac ante at ipsum fermentum fermentum. Nullam non nisl nec nunc fermentum fermentum. Nullam nec tellus fermentum,Lorem ipsum dolor sit amet, consectetur adipiscing elit. Nullam ac ante at ipsum fermentum fermentum. Nullam non nisl nec nunc fermentum fermentum. Nullam nec tellus fermentum,Lorem ipsum dolor sit amet, consectetur adipiscing elit. Nullam ac ante at ipsum fermentum fermentum. Nullam non nisl nec nunc fermentum fermentum. Nullam nec tellus fermentum,Lorem ipsum dolor sit amet, consectetur adipiscing elit. Nullam ac ante at ipsum fermentum fermentum. Nullam non nisl nec nunc fermentum fermentum. Nullam nec tellus fermentum,Lorem ipsum dolor sit amet, consectetur adipiscing elit. Nullam ac ante at ipsum fermentum fermentum. Nullam non nisl nec nunc fermentum fermentum. Nullam nec tellus fermentum,Lorem ipsum dolor sit amet, consectetur adipiscing elit. Nullam ac ante at ipsum fermentum fermentum. Nullam non nisl nec nunc fermentum fermentum. Nullam nec tellus fermentum,Lorem ipsum dolor sit amet, consectetur adipiscing elit. Nullam ac ante at ipsum fermentum fermentum. Nullam non nisl nec nunc fermentum fermentum. Nullam nec tellus fermentum,Lorem ipsum dolor sit amet, consectetur adipiscing elit. Nullam ac ante at ipsum fermentum fermentum. Nullam non nisl nec nunc fermentum fermentum. Nullam nec tellus fermentum,Lorem ipsum dolor sit amet, consectetur adipiscing elit. Nullam ac ante at ipsum fermentum fermentum. Nullam non nisl nec nunc fermentum fermentum. Nullam nec tellus fermentum,Lorem ipsum dolor sit amet, consectetur adipiscing elit. Nullam ac ante at ipsum fermentum fermentum. Nullam non nisl nec nunc fermentum fermentum. Nullam nec tellus fermentum,Lorem ipsum dolor sit amet, consectetur adipiscing elit. Nullam ac ante at ipsum fermentum fermentum. Nullam non nisl nec nunc fermentum fermentum. Nullam nec tellus fermentum,Lorem ipsum dolor sit amet, consectetur adipiscing elit. Nullam ac ante at ipsum fermentum fermentum. Nullam non nisl nec nunc fermentum fermentum. Nullam nec tellus fermentum,Lorem ipsum dolor sit amet, consectetur adipiscing elit. Nullam ac ante at ipsum fermentum fermentum. Nullam non nisl nec nunc fermentum fermentum. Nullam nec tellus fermentum,Lorem ipsum dolor sit amet, consectetur adipiscing elit. Nullam ac ante at ipsum fermentum fermentum. Nullam non nisl nec nunc fermentum fermentum. Nullam nec tellus fermentum,Lorem ipsum dolor sit amet, consectetur adipiscing elit. Nullam ac ante at ipsum fermentum fermentum. Nullam non nisl nec nunc fermentum fermentum. Nullam nec tellus fermentum,Lorem ipsum dolor sit amet, consectetur adipiscing elit. Nullam ac ante at ipsum fermentum fermentum. Nullam non nisl nec nunc fermentum fermentum. Nullam nec tellus fermentum,Lorem ipsum dolor sit amet, consectetur adipiscing elit. Nullam ac ante at ipsum fermentum fermentum. Nullam non nisl nec nunc fermentum fermentum. Nullam nec tellus fermentum,Lorem ipsum dolor sit amet, consectetur adipiscing elit. Nullam ac ante at ipsum fermentum fermentum. Nullam non nisl nec nunc fermentum fermentum. Nullam nec tellus fermentum,Lorem ipsum dolor sit amet, consectetur adipiscing elit. Nullam ac ante at ipsum fermentum fermentum. Nullam non nisl nec nunc fermentum fermentum. Nullam nec tellus fermentum,Lorem ipsum dolor sit amet, consectetur adipiscing elit. Nullam ac ante at ipsum fermentum fermentum. Nullam non nisl nec nunc fermentum fermentum. Nullam nec tellus fermentum,Lorem ipsum dolor sit amet, consectetur adipiscing elit. Nullam ac ante at ipsum fermentum fermentum. Nullam non nisl nec nunc fermentum fermentum. Nullam nec tellus fermentum,Lorem ipsum dolor sit amet, consectetur adipiscing elit. Nullam ac ante at ipsum fermentum fermentum. Nullam non nisl nec nunc fermentum fermentum. Nullam nec tellus fermentum,Lorem ipsum dolor sit amet, consectetur adipiscing elit. Nullam ac ante at ipsum fermentum fermentum. Nullam non nisl nec nunc fermentum fermentum. Nullam nec tellus fermentum,Lorem ipsum dolor sit amet, consectetur adipiscing elit. Nullam ac ante at ipsum fermentum fermentum. Nullam non nisl nec nunc fermentum fermentum. Nullam nec tellus fermentum,Lorem ipsum dolor sit amet, consectetur adipiscing elit. Nullam ac ante at ipsum fermentum fermentum. Nullam non nisl nec nunc fermentum fermentum. Nullam nec tellus fermentum,Lorem ipsum dolor sit amet, consectetur adipiscing elit. Nullam ac ante at ipsum fermentum fermentum. Nullam non nisl nec nunc fermentum fermentum. Nullam nec tellus fermentum,Lorem ipsum dolor sit amet, consectetur adipiscing elit. Nullam ac ante at ipsum fermentum fermentum. Nullam non nisl nec nunc fermentum fermentum. Nullam nec tellus fermentum,Lorem ipsum dolor sit amet, consectetur adipiscing elit. Nullam ac ante at ipsum fermentum fermentum. Nullam non nisl nec nunc fermentum fermentum. Nullam nec tellus fermentum,Lorem ipsum dolor sit amet, consectetur adipiscing elit. Nullam ac ante at ipsum fermentum fermentum. Nullam non nisl nec nunc fermentum fermentum. Nullam nec tellus fermentum,Lorem ipsum dolor sit amet, consectetur adipiscing elit. Nullam ac ante at ipsum fermentum fermentum. Nullam non nisl nec nunc fermentum fermentum. Nullam nec tellus fermentum,Lorem ipsum dolor sit amet, consectetur adipiscing elit. Nullam ac ante at ipsum fermentum fermentum. Nullam non nisl nec nunc fermentum fermentum. Nullam nec tellus fermentum,Lorem ipsum dolor sit amet, consectetur adipiscing elit. Nullam ac ante at ipsum fermentum fermentum. Nullam non nisl nec nunc fermentum fermentum. Nullam nec tellus fermentum,Lorem ipsum dolor sit amet, consectetur adipiscing elit. Nullam ac ante at ipsum fermentum fermentum. Nullam non nisl nec nunc fermentum fermentum. Nullam nec tellus fermentum,Lorem ipsum dolor sit amet, consectetur adipiscing elit. Nullam ac ante at ipsum fermentum fermentum. Nullam non nisl nec nunc fermentum fermentum. Nullam nec tellus fermentum,Lorem ipsum dolor sit amet, consectetur adipiscing elit. Nullam ac ante at ipsum fermentum fermentum. Nullam non nisl nec nunc fermentum fermentum. Nullam nec tellus fermentum,Lorem ipsum dolor sit amet, consectetur adipiscing elit. Nullam ac ante at ipsum fermentum fermentum. Nullam non nisl nec nunc fermentum fermentum. Nullam nec tellus fermentum,Lorem ipsum dolor sit amet, consectetur adipiscing elit. Nullam ac ante at ipsum fermentum fermentum. Nullam non nisl nec nunc fermentum fermentum. Nullam nec tellus fermentum,Lorem ipsum dolor sit amet, consectetur adipiscing elit. Nullam ac ante at ipsum fermentum fermentum. Nullam non nisl nec nunc fermentum fermentum. Nullam nec tellus fermentum,Lorem ipsum dolor sit amet, consectetur adipiscing elit. Nullam ac ante at ipsum fermentum fermentum. Nullam non nisl nec nunc fermentum fermentum. Nullam nec tellus fermentum,Lorem ipsum dolor sit amet, consectetur adipiscing elit. Nullam ac ante at ipsum fermentum fermentum. Nullam non nisl nec nunc fermentum fermentum. Nullam nec tellus fermentum,Lorem ipsum dolor sit amet, consectetur adipiscing elit. Nullam ac ante at ipsum fermentum fermentum. Nullam non nisl nec nunc fermentum fermentum. Nullam nec tellus fermentum,Lorem ipsum dolor sit amet, consectetur adipiscing elit. Nullam ac ante at ipsum fermentum fermentum. Nullam non nisl nec nunc fermentum fermentum. Nullam nec tellus fermentum,Lorem ipsum dolor sit amet, consectetur adipiscing elit. Nullam ac ante at ipsum fermentum fermentum. Nullam non nisl nec nunc fermentum fermentum. Nullam nec tellus fermentum,Lorem ipsum dolor sit amet, consectetur adipiscing elit. Nullam ac ante at ipsum fermentum fermentum. Nullam non nisl nec nunc fermentum fermentum. Nullam nec tellus fermentum,Lorem ipsum dolor sit amet, consectetur adipiscing elit. Nullam ac ante at ipsum fermentum fermentum. Nullam non nisl nec nunc fermentum fermentum. Nullam nec tellus fermentum,Lorem ipsum dolor sit amet, consectetur adipiscing elit. Nullam ac ante at ipsum fermentum fermentum. Nullam non nisl nec nunc fermentum fermentum. Nullam nec tellus fermentum,Lorem ipsum dolor sit amet, consectetur adipiscing elit. Nullam ac ante at ipsum fermentum fermentum. Nullam non nisl nec nunc fermentum fermentum. Nullam nec tellus fermentum,Lorem ipsum dolor sit amet, consectetur adipiscing elit. Nullam ac ante at ipsum fermentum fermentum. Nullam non nisl nec nunc fermentum fermentum. Nullam nec tellus fermentum,Lorem ipsum dolor sit amet, consectetur adipiscing elit. Nullam ac ante at ipsum fermentum fermentum. Nullam non nisl nec nunc fermentum fermentum. Nullam nec tellus fermentum,Lorem ipsum dolor sit amet, consectetur adipiscing elit. Nullam ac ante at ipsum fermentum fermentum. Nullam non nisl nec nunc fermentum fermentum. Nullam nec tellus fermentum,Lorem ipsum dolor sit amet, consectetur adipiscing elit. Nullam ac ante at ipsum fermentum fermentum. Nullam non nisl nec nunc fermentum fermentum. Nullam nec tellus fermentum,Lorem ipsum dolor sit amet, consectetur adipiscing elit. Nullam ac ante at ipsum fermentum fermentum. Nullam non nisl nec nunc fermentum fermentum. Nullam nec tellus fermentum,Lorem ipsum dolor sit amet, consectetur adipiscing elit. Nullam ac ante at ipsum fermentum fermentum. Nullam non nisl nec nunc fermentum fermentum. Nullam nec tellus fermentum,Lorem ipsum dolor sit amet, consectetur adipiscing elit. Nullam ac ante at ipsum fermentum fermentum. Nullam non nisl nec nunc fermentum fermentum. Nullam nec tellus fermentum,'\n",
        "    encoded_text, coding_dict = lzw.encode(text)\n",
        "    print(f\"Original text: {text}\")\n",
        "    print(f\"Encoded text: {encoded_text}\")\n",
        "    print(f\"Coding dictionary: {coding_dict}\")\n",
        "    print(f\"Decoded text: {lzw.decode(encoded_text, coding_dict)}\")\n",
        "    print(f'Bit length of original text: {len(text) * 8}')\n",
        "    print(f'Bit length of encoded text: {len(encoded_text)*8}')\n",
        "    print(f'Ratio of encoded text to original text: {len(encoded_text)*8 / (len(text)*8)}')\n",
        "    assert lzw.decode(encoded_text, coding_dict) == text"
      ]
    },
    {
      "cell_type": "markdown",
      "metadata": {
        "id": "eETQbkkDoTDc"
      },
      "source": [
        "# Алгоритм LZ77\n",
        "\n",
        "Потрібно заміряти розміри саме тексту, проте для роботи доцільно використовувати список тюплів, тому для зручності варто імплементувати додаткові алгоритми _text2list та _list2text"
      ]
    },
    {
      "cell_type": "code",
      "execution_count": 31,
      "metadata": {
        "id": "Mu1A0QS2oaOF"
      },
      "outputs": [
        {
          "name": "stdout",
          "output_type": "stream",
          "text": [
            "Original text: ty7zzw26i0w.nqm.(csgykrl,9vif o7xq0'21d)'bnk 84y6l'fodb4xfn34 9w7guq wo6(wp27(hsg(dkei,2dmw4(ginhrwodgkuy5k4.7rgtrp,h s9l0esip3h5tea.tw(209smei'klm'3tgkeaz,k(o.lglm)wr q3x,3e(zu2k678593slp4(opys iue1sfnulzglt185k)d wgqdww71g51fih(uv8qi0ly570y24hxal933aczz.mug38m60a uvmz0q40tt),94,twakaikkp.lh0lv9d 4,'ls6a'acp5aqhyq47mh3irprt7dt)iffwz9cf ga0vy31su 30xnqexfw5vu0m,8t,87ggfw57ie4ys3p2h8wbfb,a7ai2u46x1,38ep'3l9 ,8huzd6i,ypt(4mgkb4mbcicyie 4p3uvtxxp2.,dbz8r'eses4vgb(4v6h(i,t9enkw,5uf1ng9utbbnl4uai7,812e9aqyoyqwq.5w,8.abkvpabsmrc05z0,f.vpgi2l04,ghmeuigfz1nxzq.)5a1a1n 19(rl2it3xz73fv6wzzla1q14k5e t)9g5'f)9(lq8x421i7m4r0p437w9yxgb.gp2tywk6uuufv.rsif5 dorrrh88fki(6zz(,as)ccd325k5c,wg8 .oe0.s4bpgb,s44s2h218egc.,))y6dx8abah'0mby9b)8x zrw,47zbk 1f7g2og,3mx's'xex, .o,goahz79 25gd7dgt(u,fev0g7m.b,44azyg9kvr5t0sbdlh,4gab4ryg0qz.y(6r1lk3,x4wbo(ie0ld,.0f4.f4i2zrn4vnvwzfl9pw30f3bk0'2l(''h2,)dv9bwlt9x0'x84z,7e.8xvip)3z)e1xmg.kd7n1zy9mg34 ngw.ody9rwsyw3px934w g45aildknf1d0yuqxgaapg3dpn(998wvgzg6egk2049dnhg\n",
            "Encoded text: 0,0,t0,0,y0,0,70,0,z1,1,w0,0,20,0,60,0,i0,0,05,1,.0,0,n0,0,q0,0,m4,1,(0,0,c0,0,s0,0,g19,1,k0,0,r0,0,l0,0,,0,0,90,0,v19,1,f0,0, 0,0,o29,1,x20,1,00,0,'30,1,10,0,d0,0,)5,1,b30,1,k15,1,80,0,427,1,626,1,'23,1,o15,1,b9,1,x6,1,n0,0,35,1, 37,1,w33,1,g0,0,u34,1, 6,1,o23,1,(4,1,p39,1,75,1,h61,2,(29,1,k0,0,e58,1,,12,1,d75,1,w31,1,(13,1,i37,1,h75,1,w47,2,g19,1,u57,1,54,1,493,1,713,1,g112,1,r40,1,,20,1, 39,1,971,1,038,1,s30,1,p67,1,h23,1,t8,1,a24,1,t36,1,(49,1,019,1,s51,1,e18,1,'38,1,l6,1,'22,1,t49,2,e22,1,z40,1,k22,1,o27,1,l11,1,l17,1,)31,1,r50,1,q21,1,x16,1,321,1,(21,1,u41,1,k108,1,7136,1,545,1,346,1,l62,1,432,2,p88,1,s27,1,i20,1,e161,1,s143,2,u17,1,z44,2,t10,1,8105,2,)113,1, 50,1,g49,1,d4,1,w41,1,17,1,53,1,f32,1,h40,1,u205,1,816,1,i98,1,l133,2,75,1,y65,1,416,1,x93,1,l65,2,35,1,c250,2,.93,1,u35,1,328,1,m83,1,013,1, 36,2,m15,1,038,1,43,1,t1,1,)253,2,43,1,t62,1,a73,1,a52,1,k1,1,p131,2,h58,2,v18,1,d33,1,420,1,'8,1,s42,1,a5,1,a56,1,p72,1,a41,1,h73,1,q17,1,750,1,h61,1,i209,2,r44,1,730,1,t53,1,i105,1,f51,1,z39,1,c309,2,g29,1,047,1,y24,1,143,1,u10,1,39,1,x340,2,e299,2,w48,1,v13,1,044,1,,104,1,t3,2,730,1,g15,3,745,1,e331,2,s31,1,p140,1,h17,1,w332,1,f2,1,,50,1,7107,2,235,1,493,1,x54,1,,142,2,e23,1,'5,1,l73,1, 44,2,h18,1,z88,1,6332,2,y16,1,t193,1,462,1,g138,1,b5,2,b95,1,i2,1,y60,2, 10,1,p34,1,u83,1,t46,1,x65,2,.31,1,d21,1,z42,1,r50,1,e78,1,e2,1,419,1,g12,1,(5,2,6240,2,i191,2,916,1,n50,1,w7,1,539,1,f83,1,n22,1,96,1,t25,1,b7,1,l27,1,u102,2,787,2,153,1,e17,1,a151,1,y316,1,y4,1,w2,1,.33,1,w17,2,.14,1,b43,1,v75,1,a5,1,s96,1,r94,1,017,1,z3,1,,52,1,.15,2,g145,2,l10,1,411,1,g77,1,m46,1,u11,1,g18,1,z71,2,x4,1,q24,1,)250,2,12,2,n129,1,166,1,(548,2,224,1,t406,2,z82,1,329,1,v115,1,w331,2,l24,2,q2,1,473,1,5158,2,t38,1,9376,2,'22,1,)36,2,l18,1,833,1,4575,2,i297,2,447,1,0432,2,38,1,w20,1,y17,1,g105,1,.3,1,p21,1,t9,1,w458,2,u1,2,f61,1,.27,1,s316,2,554,1,d145,1,r1,2,h48,1,811,1,k14,1,(25,1,z1,1,(277,2,s66,1,c1,1,d52,1,2465,2,57,1,,465,2,834,1,.34,1,e69,1,.230,2,b156,2,b16,1,s7,1,43,1,246,1,2495,2,e13,1,c260,2,)1,1,y51,1,d89,1,8195,2,a19,1,'361,2,b13,1,93,1,)121,2, 68,1,r221,2,4735,2,b697,2,185,1,739,1,262,1,g349,2,m22,1,'55,1,'4,1,e588,2, 77,2,,16,1,o47,2,z25,1,911,1,296,1,g61,1,7677,2,t551,2,,40,1,e143,1,09,1,7775,2,b57,2,4642,2,y314,2,k16,1,r675,2,052,1,b31,1,l43,1,,18,1,g97,2,415,1,y6,1,0214,1,z33,1,y164,2,r86,1,l30,1,321,1,x18,1,w21,1,o369,2,e548,2,d12,1,.5,1,f741,2,f3,1,i81,1,z28,1,n392,2,n2,1,w8,1,f457,2,p6,1,323,2,3133,2,0840,2,l40,1,'1,1,h6,1,,672,2,v161,2,w684,2,960,1,0140,2,841,1,z17,1,762,1,.175,2,v783,2,)39,1,z3,1,e86,1,x492,2,.46,1,d20,1,n9,1,z200,2,m670,2,4160,1,n5,1,w174,2,d13,2,r7,1,s309,2,338,1,x700,2,47,1, 20,1,4395,2,i116,2,k29,1,f926,2,023,1,u147,1,x157,2,a281,2,312,1,p17,1,(32,1,9598,2,v11,1,z2,1,6284,2,k856,2,4699,2,n117,1,g\n",
            "Decoded text: ty7zzw26i0w.nqm.(csgykrl,9vif o7xq0'21d)'bnk 84y6l'fodb4xfn34 9w7guq wo6(wp27(hsg(dkei,2dmw4(ginhrwodgkuy5k4.7rgtrp,h s9l0esip3h5tea.tw(209smei'klm'3tgkeaz,k(o.lglm)wr q3x,3e(zu2k678593slp4(opys iue1sfnulzglt185k)d wgqdww71g51fih(uv8qi0ly570y24hxal933aczz.mug38m60a uvmz0q40tt),94,twakaikkp.lh0lv9d 4,'ls6a'acp5aqhyq47mh3irprt7dt)iffwz9cf ga0vy31su 30xnqexfw5vu0m,8t,87ggfw57ie4ys3p2h8wbfb,a7ai2u46x1,38ep'3l9 ,8huzd6i,ypt(4mgkb4mbcicyie 4p3uvtxxp2.,dbz8r'eses4vgb(4v6h(i,t9enkw,5uf1ng9utbbnl4uai7,812e9aqyoyqwq.5w,8.abkvpabsmrc05z0,f.vpgi2l04,ghmeuigfz1nxzq.)5a1a1n 19(rl2it3xz73fv6wzzla1q14k5e t)9g5'f)9(lq8x421i7m4r0p437w9yxgb.gp2tywk6uuufv.rsif5 dorrrh88fki(6zz(,as)ccd325k5c,wg8 .oe0.s4bpgb,s44s2h218egc.,))y6dx8abah'0mby9b)8x zrw,47zbk 1f7g2og,3mx's'xex, .o,goahz79 25gd7dgt(u,fev0g7m.b,44azyg9kvr5t0sbdlh,4gab4ryg0qz.y(6r1lk3,x4wbo(ie0ld,.0f4.f4i2zrn4vnvwzfl9pw30f3bk0'2l(''h2,)dv9bwlt9x0'x84z,7e.8xvip)3z)e1xmg.kd7n1zy9mg34 ngw.ody9rwsyw3px934w g45aildknf1d0yuqxgaapg3dpn(998wvgzg6egk2049dnhg\n",
            "Bit length of original text: 8000\n",
            "Ratio of encoded text to original text: 0.84725\n"
          ]
        }
      ],
      "source": [
        "from math import log2\n",
        "from random import randint\n",
        "import time\n",
        "\n",
        "class LZ77:\n",
        "    def __init__(self, buffer_size: int) -> None:\n",
        "        self.buffer_size = buffer_size\n",
        "\n",
        "    def encode(self, text: str) -> str:\n",
        "        i = 0\n",
        "        code = []\n",
        "        text_len = len(text)\n",
        "        while i < text_len:\n",
        "            buffer_start = max(0, i - self.buffer_size)\n",
        "            buffer_end = i\n",
        "            code_len = 0\n",
        "            last_code_len = 0\n",
        "            first_i = 0\n",
        "            for buffer_i in range(buffer_start, buffer_end):\n",
        "                code_len = 0\n",
        "                encoded_el = \"\"\n",
        "                if text[buffer_i] == text[i]:\n",
        "                    code_len += 1\n",
        "                    encoded_el = text[buffer_i]\n",
        "                    buffer_i2 = buffer_i + 1\n",
        "                    while buffer_i2 < buffer_end + code_len:\n",
        "                        if i + code_len >= text_len:\n",
        "                            break\n",
        "                        if text[buffer_i2] == text[i + code_len]:\n",
        "                            code_len += 1\n",
        "                            encoded_el += text[buffer_i2]\n",
        "                        else:\n",
        "                            break\n",
        "                        buffer_i2 += 1\n",
        "                if code_len >= last_code_len:\n",
        "                    first_i = i - buffer_i if code_len else 0\n",
        "                    last_code_len = code_len\n",
        "            last_el = text[i + last_code_len] if i + last_code_len < text_len else \"\"\n",
        "            code.append((first_i,last_code_len,last_el))\n",
        "            i += last_code_len + 1\n",
        "        return self._list2text(code)\n",
        "\n",
        "    @staticmethod\n",
        "    def _text2list(text: str) -> list[tuple]:\n",
        "        code = []\n",
        "        while text:\n",
        "            text = text.split(\",\", 2)\n",
        "            code.append((int(text[0]), int(text[1]), text[2][0] if text[2] else \"\"))\n",
        "            text = text[2][1:] if text[2] else \"\"\n",
        "        return code\n",
        "\n",
        "    @staticmethod\n",
        "    def _list2text(lst: list[tuple]) -> str:\n",
        "        return \"\".join(map(lambda el: f\"{el[0]},{el[1]},{el[2]}\", lst))\n",
        "\n",
        "    def decode(self, text: str) -> str:\n",
        "        i = 0\n",
        "        code = self._text2list(text)\n",
        "        decoded_text = \"\"\n",
        "        for buffer_i, code_len, last_el in code:\n",
        "            if code_len - buffer_i > 0:\n",
        "                encoded_part = decoded_text[i - buffer_i: i] * (code_len // buffer_i + 1)\n",
        "                decoded_text += encoded_part[:code_len] + last_el\n",
        "            else:\n",
        "                decoded_text += decoded_text[i - buffer_i: i - buffer_i + code_len] + last_el\n",
        "            i += code_len + 1\n",
        "        return decoded_text\n",
        "\n",
        "\n",
        "if __name__ == \"__main__\":\n",
        "    alphabet = \"abcdefghigklmnopqrstuvwxyz., '1234567890()\"\n",
        "    random_text = \"\".join(alphabet[randint(0, len(alphabet) - 1)] for _ in range(1000))\n",
        "    # random_text = \"Lorem ipsum dolor sit amet, consectetur adipiscing elit. Sed do eiusmod tempor incididunt ut labore et dolore magna aliqua. Ut enim ad minim veniam, quis nostrud exercitation ullamco laboris nisi ut aliquip ex ea commodo consequat. Duis aute irure dolor in reprehenderit in voluptate velit esse cillum dolore eu fugiat nulla pariatur. Excepteur sint occaecat cupidatat non proident, sunt in culpa qui officia deserunt mollit anim id est laborum.\"\n",
        "    # random_text = \"abacabacabadaca\"\n",
        "    buffer_size = len(random_text)\n",
        "    lz = LZ77(buffer_size)\n",
        "    encoded_text = lz.encode(random_text)\n",
        "    encoded_text = lz.encode(random_text)\n",
        "    print(f\"Original text: {random_text}\")\n",
        "    print(f\"Encoded text: {encoded_text}\")\n",
        "    print(f\"Decoded text: {lz.decode(encoded_text)}\")\n",
        "    print(f'Bit length of original text: {len(random_text) * 8}')\n",
        "    encoded_len = 0\n",
        "    for els in lz._text2list(encoded_text):\n",
        "        for sym in els:\n",
        "            if isinstance(sym, int):\n",
        "                encoded_len += len(bin(sym)[2:])\n",
        "            else:\n",
        "                encoded_len += 8\n",
        "    print(f'Ratio of encoded text to original text: {encoded_len / (len(random_text) * 8)}')\n",
        "    assert lz.decode(encoded_text) == random_text"
      ]
    },
    {
      "cell_type": "markdown",
      "metadata": {
        "id": "bz-B5jWroghO"
      },
      "source": [
        "# Алгоритм Deflate"
      ]
    },
    {
      "cell_type": "code",
      "execution_count": null,
      "metadata": {
        "id": "ZAU57ZQtogOC"
      },
      "outputs": [],
      "source": [
        "class Deflate:\n",
        "    def __init__(self, buffer_size: int):\n",
        "        pass\n",
        "\n",
        "    def encode(self, text: str) -> str:\n",
        "        pass\n",
        "\n",
        "    def decode(self, code: str) -> str:\n",
        "        pass"
      ]
    }
  ],
  "metadata": {
    "colab": {
      "authorship_tag": "ABX9TyPfU8BzBRTPt6lIw6h6vnIC",
      "provenance": []
    },
    "kernelspec": {
      "display_name": "Python 3",
      "name": "python3"
    },
    "language_info": {
      "codemirror_mode": {
        "name": "ipython",
        "version": 3
      },
      "file_extension": ".py",
      "mimetype": "text/x-python",
      "name": "python",
      "nbconvert_exporter": "python",
      "pygments_lexer": "ipython3",
      "version": "3.11.8"
    }
  },
  "nbformat": 4,
  "nbformat_minor": 0
}
